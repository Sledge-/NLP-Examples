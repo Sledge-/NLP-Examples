{
 "cells": [
  {
   "cell_type": "code",
   "execution_count": 1,
   "metadata": {},
   "outputs": [],
   "source": [
    "test_data = \"(2 (3 (3 Effective) (2 but)) (1 (1 too-tepid) (2 biopic)))\""
   ]
  },
  {
   "cell_type": "code",
   "execution_count": 2,
   "metadata": {},
   "outputs": [
    {
     "name": "stdout",
     "output_type": "stream",
     "text": [
      "(2 (3 (3 Effective) (2 but)) (1 (1 too-tepid) (2 biopic)))\n"
     ]
    }
   ],
   "source": [
    "print(test_data)"
   ]
  },
  {
   "cell_type": "code",
   "execution_count": 3,
   "metadata": {},
   "outputs": [
    {
     "name": "stdout",
     "output_type": "stream",
     "text": [
      "['2']\n"
     ]
    }
   ],
   "source": [
    "print(\"2 \".split())"
   ]
  },
  {
   "cell_type": "code",
   "execution_count": 4,
   "metadata": {},
   "outputs": [
    {
     "name": "stdout",
     "output_type": "stream",
     "text": [
      "['2', 'word']\n"
     ]
    }
   ],
   "source": [
    "print(\"2 word\".split())"
   ]
  },
  {
   "cell_type": "markdown",
   "metadata": {},
   "source": [
    "<h3> Build a parse tree. </h3>"
   ]
  },
  {
   "cell_type": "code",
   "execution_count": null,
   "metadata": {},
   "outputs": [],
   "source": []
  },
  {
   "cell_type": "markdown",
   "metadata": {},
   "source": [
    "<h4> Attempt 1</h4>\n",
    "<p> This attempt is slightly lacking since I can't easily skep ahead in the for loop. </p>"
   ]
  },
  {
   "cell_type": "code",
   "execution_count": 21,
   "metadata": {},
   "outputs": [],
   "source": [
    "class Tree:\n",
    "    def __init__(self, data):\n",
    "        self.data = data\n",
    "        self.tree = {}\n",
    "        self.parse_chars = set(['(',')'])\n",
    "        if data is not None:\n",
    "            self.parse_data()\n",
    "\n",
    "    def parse_data(self):\n",
    "        for i, c in enumerate(self.data):\n",
    "            if c == '(':\n",
    "                data = self.data[i+1:]\n",
    "                print(\"data:\", data)\n",
    "                next_index = next((j for j, ch in enumerate(data) if ch in self.parse_chars), None)\n",
    "                curr_tuple = data[0:next_index].split()\n",
    "                print(\"i:\", i)\n",
    "                print(\"c:\", c)\n",
    "                print(\"next_index:\", next_index)\n",
    "                print(\"curr_tuple:\", curr_tuple)\n",
    "                print(\"len(curr_tuple):\", len(curr_tuple))\n",
    "                print(\"\\n\")\n",
    "            if c == ')':\n",
    "                pass"
   ]
  },
  {
   "cell_type": "code",
   "execution_count": null,
   "metadata": {},
   "outputs": [],
   "source": [
    "test_tree = Tree(data=test_data)"
   ]
  },
  {
   "cell_type": "markdown",
   "metadata": {},
   "source": [
    "<h4> Attempt 2:</h4>\n",
    "<p> Try a while loop instead. Also leverage Stack and BinaryTree classes.</p>"
   ]
  },
  {
   "cell_type": "code",
   "execution_count": 29,
   "metadata": {},
   "outputs": [],
   "source": [
    "from pythonds.basic.stack import Stack\n",
    "from pythonds.trees.binaryTree import BinaryTree"
   ]
  },
  {
   "cell_type": "code",
   "execution_count": 28,
   "metadata": {},
   "outputs": [
    {
     "name": "stdout",
     "output_type": "stream",
     "text": [
      "True\n",
      "dog\n",
      "3\n",
      "False\n",
      "8.4\n",
      "True\n",
      "2\n"
     ]
    }
   ],
   "source": [
    "s=Stack()\n",
    "\n",
    "print(s.isEmpty())\n",
    "s.push(4)\n",
    "s.push('dog')\n",
    "print(s.peek())\n",
    "s.push(True)\n",
    "print(s.size())\n",
    "print(s.isEmpty())\n",
    "s.push(8.4)\n",
    "print(s.pop())\n",
    "print(s.pop())\n",
    "print(s.size())"
   ]
  },
  {
   "cell_type": "code",
   "execution_count": null,
   "metadata": {},
   "outputs": [],
   "source": []
  },
  {
   "cell_type": "code",
   "execution_count": 25,
   "metadata": {},
   "outputs": [],
   "source": [
    "tree = BinaryTree('')"
   ]
  },
  {
   "cell_type": "code",
   "execution_count": null,
   "metadata": {},
   "outputs": [],
   "source": [
    "tree.getLeftChild()"
   ]
  },
  {
   "cell_type": "code",
   "execution_count": 57,
   "metadata": {},
   "outputs": [],
   "source": [
    "def make_tree(data):\n",
    "    if data is None:\n",
    "        return None\n",
    "    tree = BinaryTree('')\n",
    "    parse_chars = set(['(',')'])\n",
    "    stack = Stack()\n",
    "    stack.push(tree)\n",
    "    currentTree = tree\n",
    "    i = 0\n",
    "    while i < len(data):\n",
    "        d = data[i+1:]  # strip off first char, should always be '(',')'\n",
    "        ci = data[i]  # ci is first char, either '(',')'\n",
    "        next_index = next((j for j, ch in enumerate(d) if ch in parse_chars), None)\n",
    "        if next_index == None:\n",
    "            break\n",
    "        curr_tuple = d[0:next_index].split()\n",
    "        cf = d[next_index]  # cf is either '(',')'\n",
    "        # sanity check\n",
    "        assert ci in parse_chars\n",
    "        assert cf in parse_chars\n",
    "        # print out some variables for testing\n",
    "        print(\"data:\", d)\n",
    "        print(\"i:\", i)\n",
    "        print(\"ci:\", ci)\n",
    "        print(\"next_index:\", next_index)\n",
    "        print(\"cf:\", cf)\n",
    "        print(\"curr_tuple:\", curr_tuple)\n",
    "        print(\"len(curr_tuple):\", len(curr_tuple))\n",
    "\n",
    "        if ci == '(':\n",
    "            currentTree.setRootVal(curr_tuple)\n",
    "            if cf == '(':\n",
    "                stack.push(currentTree)\n",
    "                currentTree.insertLeft('')\n",
    "                currentTree = currentTree.getLeftChild()\n",
    "                print(\"insert left\")\n",
    "            elif cf == ')':\n",
    "                print(\"pass\")\n",
    "                pass\n",
    "        elif ci == ')':\n",
    "            if cf == '(':\n",
    "                parent = stack.pop()\n",
    "                parent.insertRight('')\n",
    "                currentTree = parent.getRightChild()\n",
    "                stack.push(parent)\n",
    "                print(\"move up, insert right\")\n",
    "            elif cf == ')':\n",
    "                parent = stack.pop()\n",
    "                currentTree = parent\n",
    "                print(\"move up\")\n",
    "\n",
    "        print(\"\\n\")\n",
    "        i += next_index + 1\n",
    "        \n",
    "    return tree\n",
    "\n",
    "                        "
   ]
  },
  {
   "cell_type": "code",
   "execution_count": 58,
   "metadata": {},
   "outputs": [
    {
     "data": {
      "text/plain": [
       "'(2 (3 (3 Effective) (2 but)) (1 (1 too-tepid) (2 biopic)))'"
      ]
     },
     "execution_count": 58,
     "metadata": {},
     "output_type": "execute_result"
    }
   ],
   "source": [
    "test_data"
   ]
  },
  {
   "cell_type": "code",
   "execution_count": 59,
   "metadata": {},
   "outputs": [
    {
     "name": "stdout",
     "output_type": "stream",
     "text": [
      "data: 2 (3 (3 Effective) (2 but)) (1 (1 too-tepid) (2 biopic)))\n",
      "i: 0\n",
      "ci: (\n",
      "next_index: 2\n",
      "cf: (\n",
      "curr_tuple: ['2']\n",
      "len(curr_tuple): 1\n",
      "insert left\n",
      "\n",
      "\n",
      "data: 3 (3 Effective) (2 but)) (1 (1 too-tepid) (2 biopic)))\n",
      "i: 3\n",
      "ci: (\n",
      "next_index: 2\n",
      "cf: (\n",
      "curr_tuple: ['3']\n",
      "len(curr_tuple): 1\n",
      "insert left\n",
      "\n",
      "\n",
      "data: 3 Effective) (2 but)) (1 (1 too-tepid) (2 biopic)))\n",
      "i: 6\n",
      "ci: (\n",
      "next_index: 11\n",
      "cf: )\n",
      "curr_tuple: ['3', 'Effective']\n",
      "len(curr_tuple): 2\n",
      "pass\n",
      "\n",
      "\n",
      "data:  (2 but)) (1 (1 too-tepid) (2 biopic)))\n",
      "i: 18\n",
      "ci: )\n",
      "next_index: 1\n",
      "cf: (\n",
      "curr_tuple: []\n",
      "len(curr_tuple): 0\n",
      "move up, insert right\n",
      "\n",
      "\n",
      "data: 2 but)) (1 (1 too-tepid) (2 biopic)))\n",
      "i: 20\n",
      "ci: (\n",
      "next_index: 5\n",
      "cf: )\n",
      "curr_tuple: ['2', 'but']\n",
      "len(curr_tuple): 2\n",
      "pass\n",
      "\n",
      "\n",
      "data: ) (1 (1 too-tepid) (2 biopic)))\n",
      "i: 26\n",
      "ci: )\n",
      "next_index: 0\n",
      "cf: )\n",
      "curr_tuple: []\n",
      "len(curr_tuple): 0\n",
      "move up\n",
      "\n",
      "\n",
      "data:  (1 (1 too-tepid) (2 biopic)))\n",
      "i: 27\n",
      "ci: )\n",
      "next_index: 1\n",
      "cf: (\n",
      "curr_tuple: []\n",
      "len(curr_tuple): 0\n",
      "move up, insert right\n",
      "\n",
      "\n",
      "data: 1 (1 too-tepid) (2 biopic)))\n",
      "i: 29\n",
      "ci: (\n",
      "next_index: 2\n",
      "cf: (\n",
      "curr_tuple: ['1']\n",
      "len(curr_tuple): 1\n",
      "insert left\n",
      "\n",
      "\n",
      "data: 1 too-tepid) (2 biopic)))\n",
      "i: 32\n",
      "ci: (\n",
      "next_index: 11\n",
      "cf: )\n",
      "curr_tuple: ['1', 'too-tepid']\n",
      "len(curr_tuple): 2\n",
      "pass\n",
      "\n",
      "\n",
      "data:  (2 biopic)))\n",
      "i: 44\n",
      "ci: )\n",
      "next_index: 1\n",
      "cf: (\n",
      "curr_tuple: []\n",
      "len(curr_tuple): 0\n",
      "move up, insert right\n",
      "\n",
      "\n",
      "data: 2 biopic)))\n",
      "i: 46\n",
      "ci: (\n",
      "next_index: 8\n",
      "cf: )\n",
      "curr_tuple: ['2', 'biopic']\n",
      "len(curr_tuple): 2\n",
      "pass\n",
      "\n",
      "\n",
      "data: ))\n",
      "i: 55\n",
      "ci: )\n",
      "next_index: 0\n",
      "cf: )\n",
      "curr_tuple: []\n",
      "len(curr_tuple): 0\n",
      "move up\n",
      "\n",
      "\n",
      "data: )\n",
      "i: 56\n",
      "ci: )\n",
      "next_index: 0\n",
      "cf: )\n",
      "curr_tuple: []\n",
      "len(curr_tuple): 0\n",
      "move up\n",
      "\n",
      "\n"
     ]
    }
   ],
   "source": [
    "test_tree = make_tree(test_data)"
   ]
  },
  {
   "cell_type": "code",
   "execution_count": 60,
   "metadata": {},
   "outputs": [
    {
     "data": {
      "text/plain": [
       "['2']"
      ]
     },
     "execution_count": 60,
     "metadata": {},
     "output_type": "execute_result"
    }
   ],
   "source": [
    "test_tree.getRootVal()"
   ]
  },
  {
   "cell_type": "code",
   "execution_count": 61,
   "metadata": {},
   "outputs": [
    {
     "data": {
      "text/plain": [
       "['3']"
      ]
     },
     "execution_count": 61,
     "metadata": {},
     "output_type": "execute_result"
    }
   ],
   "source": [
    "test_tree.getLeftChild().getRootVal()"
   ]
  },
  {
   "cell_type": "code",
   "execution_count": 62,
   "metadata": {},
   "outputs": [
    {
     "data": {
      "text/plain": [
       "['3', 'Effective']"
      ]
     },
     "execution_count": 62,
     "metadata": {},
     "output_type": "execute_result"
    }
   ],
   "source": [
    "test_tree.getLeftChild().getLeftChild().getRootVal()"
   ]
  },
  {
   "cell_type": "code",
   "execution_count": 63,
   "metadata": {},
   "outputs": [
    {
     "data": {
      "text/plain": [
       "['2', 'but']"
      ]
     },
     "execution_count": 63,
     "metadata": {},
     "output_type": "execute_result"
    }
   ],
   "source": [
    "test_tree.getLeftChild().getRightChild().getRootVal()"
   ]
  },
  {
   "cell_type": "code",
   "execution_count": 65,
   "metadata": {},
   "outputs": [
    {
     "data": {
      "text/plain": [
       "['1']"
      ]
     },
     "execution_count": 65,
     "metadata": {},
     "output_type": "execute_result"
    }
   ],
   "source": [
    "test_tree.getRightChild().getRootVal()"
   ]
  },
  {
   "cell_type": "code",
   "execution_count": 67,
   "metadata": {},
   "outputs": [
    {
     "data": {
      "text/plain": [
       "['1', 'too-tepid']"
      ]
     },
     "execution_count": 67,
     "metadata": {},
     "output_type": "execute_result"
    }
   ],
   "source": [
    "test_tree.getRightChild().getLeftChild().getRootVal()"
   ]
  },
  {
   "cell_type": "code",
   "execution_count": 68,
   "metadata": {},
   "outputs": [
    {
     "data": {
      "text/plain": [
       "['2', 'biopic']"
      ]
     },
     "execution_count": 68,
     "metadata": {},
     "output_type": "execute_result"
    }
   ],
   "source": [
    "test_tree.getRightChild().getRightChild().getRootVal()"
   ]
  },
  {
   "cell_type": "markdown",
   "metadata": {},
   "source": [
    "<p> Tree parser works!. </p>"
   ]
  },
  {
   "cell_type": "code",
   "execution_count": null,
   "metadata": {},
   "outputs": [],
   "source": []
  }
 ],
 "metadata": {
  "kernelspec": {
   "display_name": "Python [conda env:ds_std3.6]",
   "language": "python",
   "name": "conda-env-ds_std3.6-py"
  },
  "language_info": {
   "codemirror_mode": {
    "name": "ipython",
    "version": 3
   },
   "file_extension": ".py",
   "mimetype": "text/x-python",
   "name": "python",
   "nbconvert_exporter": "python",
   "pygments_lexer": "ipython3",
   "version": "3.6.8"
  }
 },
 "nbformat": 4,
 "nbformat_minor": 2
}
