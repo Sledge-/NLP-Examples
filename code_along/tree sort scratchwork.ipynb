{
 "cells": [
  {
   "cell_type": "code",
   "execution_count": 1,
   "metadata": {},
   "outputs": [],
   "source": [
    "test_data = \"(2 (3 (3 Effective) (2 but)) (1 (1 too-tepid) (2 biopic)))\""
   ]
  },
  {
   "cell_type": "code",
   "execution_count": 2,
   "metadata": {},
   "outputs": [
    {
     "name": "stdout",
     "output_type": "stream",
     "text": [
      "(2 (3 (3 Effective) (2 but)) (1 (1 too-tepid) (2 biopic)))\n"
     ]
    }
   ],
   "source": [
    "print(test_data)"
   ]
  },
  {
   "cell_type": "code",
   "execution_count": 3,
   "metadata": {},
   "outputs": [
    {
     "name": "stdout",
     "output_type": "stream",
     "text": [
      "['2']\n"
     ]
    }
   ],
   "source": [
    "print(\"2 \".split())"
   ]
  },
  {
   "cell_type": "code",
   "execution_count": 4,
   "metadata": {},
   "outputs": [
    {
     "name": "stdout",
     "output_type": "stream",
     "text": [
      "['2', 'word']\n"
     ]
    }
   ],
   "source": [
    "print(\"2 word\".split())"
   ]
  },
  {
   "cell_type": "code",
   "execution_count": 21,
   "metadata": {},
   "outputs": [],
   "source": [
    "class Tree:\n",
    "    def __init__(self, data):\n",
    "        self.data = data\n",
    "        self.tree = {}\n",
    "        self.parse_chars = set(['(',')'])\n",
    "        if data is not None:\n",
    "            self.parse_data()\n",
    "\n",
    "    def parse_data(self):\n",
    "        for i, c in enumerate(self.data):\n",
    "            if c == '(':\n",
    "                data = self.data[i+1:]\n",
    "                print(\"data:\", data)\n",
    "                next_index = next((j for j, ch in enumerate(data) if ch in self.parse_chars), None)\n",
    "                curr_tuple = data[0:next_index].split()\n",
    "                print(\"i:\", i)\n",
    "                print(\"c:\", c)\n",
    "                print(\"next_index:\", next_index)\n",
    "                print(\"curr_tuple:\", curr_tuple)\n",
    "                print(\"len(curr_tuple):\", len(curr_tuple))\n",
    "                print(\"\\n\")\n",
    "            if c == ')':\n",
    "                pass"
   ]
  },
  {
   "cell_type": "code",
   "execution_count": 22,
   "metadata": {},
   "outputs": [
    {
     "name": "stdout",
     "output_type": "stream",
     "text": [
      "data: 2 (3 (3 Effective) (2 but)) (1 (1 too-tepid) (2 biopic)))\n",
      "i: 0\n",
      "c: (\n",
      "next_index: 2\n",
      "curr_tuple: ['2']\n",
      "len(curr_tuple): 1\n",
      "\n",
      "\n",
      "data: 3 (3 Effective) (2 but)) (1 (1 too-tepid) (2 biopic)))\n",
      "i: 3\n",
      "c: (\n",
      "next_index: 2\n",
      "curr_tuple: ['3']\n",
      "len(curr_tuple): 1\n",
      "\n",
      "\n",
      "data: 3 Effective) (2 but)) (1 (1 too-tepid) (2 biopic)))\n",
      "i: 6\n",
      "c: (\n",
      "next_index: 11\n",
      "curr_tuple: ['3', 'Effective']\n",
      "len(curr_tuple): 2\n",
      "\n",
      "\n",
      "data: 2 but)) (1 (1 too-tepid) (2 biopic)))\n",
      "i: 20\n",
      "c: (\n",
      "next_index: 5\n",
      "curr_tuple: ['2', 'but']\n",
      "len(curr_tuple): 2\n",
      "\n",
      "\n",
      "data: 1 (1 too-tepid) (2 biopic)))\n",
      "i: 29\n",
      "c: (\n",
      "next_index: 2\n",
      "curr_tuple: ['1']\n",
      "len(curr_tuple): 1\n",
      "\n",
      "\n",
      "data: 1 too-tepid) (2 biopic)))\n",
      "i: 32\n",
      "c: (\n",
      "next_index: 11\n",
      "curr_tuple: ['1', 'too-tepid']\n",
      "len(curr_tuple): 2\n",
      "\n",
      "\n",
      "data: 2 biopic)))\n",
      "i: 46\n",
      "c: (\n",
      "next_index: 8\n",
      "curr_tuple: ['2', 'biopic']\n",
      "len(curr_tuple): 2\n",
      "\n",
      "\n"
     ]
    }
   ],
   "source": [
    "test_tree = Tree(data=test_data)"
   ]
  },
  {
   "cell_type": "code",
   "execution_count": null,
   "metadata": {},
   "outputs": [],
   "source": []
  },
  {
   "cell_type": "code",
   "execution_count": null,
   "metadata": {},
   "outputs": [],
   "source": []
  }
 ],
 "metadata": {
  "kernelspec": {
   "display_name": "Python [conda env:ds_std3.6]",
   "language": "python",
   "name": "conda-env-ds_std3.6-py"
  },
  "language_info": {
   "codemirror_mode": {
    "name": "ipython",
    "version": 3
   },
   "file_extension": ".py",
   "mimetype": "text/x-python",
   "name": "python",
   "nbconvert_exporter": "python",
   "pygments_lexer": "ipython3",
   "version": "3.6.8"
  }
 },
 "nbformat": 4,
 "nbformat_minor": 2
}
