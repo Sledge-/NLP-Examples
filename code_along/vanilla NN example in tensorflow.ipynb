{
 "cells": [
  {
   "cell_type": "code",
   "execution_count": 1,
   "metadata": {},
   "outputs": [],
   "source": [
    "import numpy as np\n",
    "import tensorflow as tf"
   ]
  },
  {
   "cell_type": "code",
   "execution_count": 2,
   "metadata": {},
   "outputs": [],
   "source": [
    "import matplotlib.pyplot as plt"
   ]
  },
  {
   "cell_type": "code",
   "execution_count": null,
   "metadata": {},
   "outputs": [],
   "source": [
    "# import os\n",
    "# import sys\n",
    "# sys.path.append(os.path.abspath('..'))"
   ]
  },
  {
   "cell_type": "code",
   "execution_count": 3,
   "metadata": {},
   "outputs": [],
   "source": [
    "# these utils will load kaggle's digit data.\n",
    "from ann_class2_util import get_normalized_data, y2indicator"
   ]
  },
  {
   "cell_type": "code",
   "execution_count": 4,
   "metadata": {},
   "outputs": [],
   "source": [
    "def error_rate(p, t):\n",
    "    return np.mean(p != t)"
   ]
  },
  {
   "cell_type": "code",
   "execution_count": 5,
   "metadata": {},
   "outputs": [
    {
     "name": "stdout",
     "output_type": "stream",
     "text": [
      "Reading in and transforming data...\n"
     ]
    }
   ],
   "source": [
    "Xtrain, Xtest, Ytrain, Ytest  = get_normalized_data()"
   ]
  },
  {
   "cell_type": "code",
   "execution_count": 6,
   "metadata": {},
   "outputs": [],
   "source": [
    "def show_digit_with_label(X, Y, index):\n",
    "    plt.title(\"Label: %d\" % Y[index])\n",
    "    plt.imshow(Xtrain[index,:].reshape(28,28))"
   ]
  },
  {
   "cell_type": "code",
   "execution_count": 7,
   "metadata": {},
   "outputs": [
    {
     "data": {
      "image/png": "[encoded data removed]",
      "text/plain": [
       "<Figure size 432x288 with 1 Axes>"
      ]
     },
     "metadata": {
      "needs_background": "light"
     },
     "output_type": "display_data"
    }
   ],
   "source": [
    "show_digit_with_label(Xtrain, Ytrain, 0)"
   ]
  },
  {
   "cell_type": "code",
   "execution_count": 8,
   "metadata": {},
   "outputs": [
    {
     "data": {
      "image/png": "[encoded data removed]",
      "text/plain": [
       "<Figure size 432x288 with 1 Axes>"
      ]
     },
     "metadata": {
      "needs_background": "light"
     },
     "output_type": "display_data"
    }
   ],
   "source": [
    "show_digit_with_label(Xtrain, Ytrain, 1)"
   ]
  },
  {
   "cell_type": "code",
   "execution_count": 9,
   "metadata": {},
   "outputs": [
    {
     "data": {
      "image/png": "[encoded data removed]",
      "text/plain": [
       "<Figure size 432x288 with 1 Axes>"
      ]
     },
     "metadata": {
      "needs_background": "light"
     },
     "output_type": "display_data"
    }
   ],
   "source": [
    "show_digit_with_label(Xtrain, Ytrain, 2)"
   ]
  },
  {
   "cell_type": "code",
   "execution_count": 10,
   "metadata": {},
   "outputs": [
    {
     "data": {
      "text/plain": [
       "array([[0., 0., 0., ..., 0., 0., 0.],\n",
       "       [0., 0., 0., ..., 0., 0., 0.],\n",
       "       [0., 0., 0., ..., 0., 0., 0.],\n",
       "       [0., 0., 0., ..., 0., 0., 0.],\n",
       "       [0., 0., 0., ..., 0., 0., 0.]], dtype=float32)"
      ]
     },
     "execution_count": 10,
     "metadata": {},
     "output_type": "execute_result"
    }
   ],
   "source": [
    "Xtrain[0:5,]"
   ]
  },
  {
   "cell_type": "code",
   "execution_count": 11,
   "metadata": {},
   "outputs": [
    {
     "data": {
      "text/plain": [
       "array([[0., 0., 0., ..., 0., 0., 0.],\n",
       "       [0., 0., 0., ..., 0., 0., 0.],\n",
       "       [0., 0., 0., ..., 0., 0., 0.],\n",
       "       [0., 0., 0., ..., 0., 0., 0.],\n",
       "       [0., 0., 0., ..., 0., 0., 0.]], dtype=float32)"
      ]
     },
     "execution_count": 11,
     "metadata": {},
     "output_type": "execute_result"
    }
   ],
   "source": [
    "Xtest[0:5,]"
   ]
  },
  {
   "cell_type": "code",
   "execution_count": 12,
   "metadata": {},
   "outputs": [
    {
     "data": {
      "text/plain": [
       "array([5., 0., 1., 0., 1.], dtype=float32)"
      ]
     },
     "execution_count": 12,
     "metadata": {},
     "output_type": "execute_result"
    }
   ],
   "source": [
    "Ytrain[0:5]"
   ]
  },
  {
   "cell_type": "code",
   "execution_count": 13,
   "metadata": {},
   "outputs": [
    {
     "data": {
      "text/plain": [
       "array([4., 5., 7., 8., 3.], dtype=float32)"
      ]
     },
     "execution_count": 13,
     "metadata": {},
     "output_type": "execute_result"
    }
   ],
   "source": [
    "Ytest[0:5]"
   ]
  },
  {
   "cell_type": "code",
   "execution_count": 17,
   "metadata": {},
   "outputs": [],
   "source": [
    "def main():\n",
    "    Xtrain, Xtest, Ytrain, Ytest  = get_normalized_data()\n",
    "    \n",
    "    max_iter = 30\n",
    "    print_period = 10\n",
    "    lr = 0.00004\n",
    "    reg = 0.1\n",
    "    \n",
    "    print(Xtrain.shape)\n",
    "    print(Ytrain.shape)\n",
    "    print(Xtest.shape)\n",
    "    print(Ytest.shape)\n",
    "    \n",
    "    Ytrain_ind = y2indicator(Ytrain)\n",
    "    Ytest_ind = y2indicator(Ytest)\n",
    "    \n",
    "    print(Ytrain_ind.shape)\n",
    "    print(Ytest_ind.shape)\n",
    "    \n",
    "    N, D = Xtrain.shape\n",
    "    batch_sz = 500\n",
    "    n_batches = N//batch_sz\n",
    "    \n",
    "    M1 = 300\n",
    "    M2 = 100\n",
    "    K = 10\n",
    "    W1_init = np.random.randn(D, M1) / 28\n",
    "    b1_init = np.zeros(M1)\n",
    "    W2_init = np.random.randn(M1, M2) / np.sqrt(M1)\n",
    "    b2_init = np.zeros(M2)\n",
    "    W3_init = np.random.randn(M2, K) / np.sqrt(M2)\n",
    "    b3_init = np.zeros(K)\n",
    "    \n",
    "    X = tf.placeholder(tf.float32, shape=(None, D), name='X')\n",
    "    T = tf.placeholder(tf.float32, shape=(None, K), name='T')\n",
    "    W1 = tf.Variable(W1_init.astype(np.float32))\n",
    "    b1 = tf.Variable(b1_init.astype(np.float32))\n",
    "    W2 = tf.Variable(W2_init.astype(np.float32))\n",
    "    b2 = tf.Variable(b2_init.astype(np.float32))\n",
    "    W3 = tf.Variable(W3_init.astype(np.float32))\n",
    "    b3 = tf.Variable(b3_init.astype(np.float32))\n",
    "    \n",
    "    Z1 = tf.nn.relu(tf.matmul(X, W1) + b1)\n",
    "    Z2 = tf.nn.relu(tf.matmul(Z1, W2) + b2)\n",
    "    Yish = tf.matmul(Z2, W3) + b3\n",
    "    \n",
    "    cost = tf.reduce_sum(tf.nn.softmax_cross_entropy_with_logits(logits=Yish, labels=T))\n",
    "\n",
    "    train_op = tf.train.RMSPropOptimizer(lr, decay=0.99, momentum=0.9).minimize(cost)\n",
    "    \n",
    "    predict_op = tf.argmax(Yish, 1)\n",
    "    \n",
    "    LL = []\n",
    "    init = tf.global_variables_initializer()\n",
    "    \n",
    "    saver = tf.train.Saver()\n",
    "    \n",
    "    with tf.Session() as session:\n",
    "        session.run(init)\n",
    "        \n",
    "        for i in range(max_iter):\n",
    "            for j in range(n_batches):\n",
    "                Xbatch = Xtrain[j*batch_sz:(j*batch_sz + batch_sz),]\n",
    "                Ybatch = Ytrain_ind[j*batch_sz:(j*batch_sz + batch_sz)]\n",
    "                session.run(train_op, feed_dict={X: Xbatch, T: Ybatch})\n",
    "                \n",
    "                if j % print_period == 0:\n",
    "                    test_cost = session.run(cost, feed_dict={X: Xtest, T: Ytest_ind})\n",
    "                    prediction = session.run(predict_op, feed_dict={X: Xtest})\n",
    "                    err = error_rate(prediction, Ytest)\n",
    "                    print(\"Cost / err at iteration i=%d, j=%d: %.3f / %.3f\" % (i, j, test_cost, err))\n",
    "                    LL.append(test_cost)\n",
    "        save_path = saver.save(session, \"models/model.ckpt\")\n",
    "        print(\"Model saved in path: %s\" % save_path)\n",
    "                    \n",
    "        plt.plot(LL)\n",
    "        plt.show()\n",
    "    "
   ]
  },
  {
   "cell_type": "code",
   "execution_count": null,
   "metadata": {},
   "outputs": [],
   "source": []
  },
  {
   "cell_type": "code",
   "execution_count": 18,
   "metadata": {},
   "outputs": [
    {
     "name": "stdout",
     "output_type": "stream",
     "text": [
      "Reading in and transforming data...\n",
      "(41000, 784)\n",
      "(41000,)\n",
      "(1000, 784)\n",
      "(1000,)\n",
      "(41000, 10)\n",
      "(1000, 10)\n",
      "Cost / err at iteration i=0, j=0: 2398.332 / 0.914\n",
      "Cost / err at iteration i=0, j=10: 1588.304 / 0.346\n",
      "Cost / err at iteration i=0, j=20: 903.267 / 0.234\n",
      "Cost / err at iteration i=0, j=30: 584.914 / 0.152\n",
      "Cost / err at iteration i=0, j=40: 457.705 / 0.122\n",
      "Cost / err at iteration i=0, j=50: 393.304 / 0.114\n",
      "Cost / err at iteration i=0, j=60: 360.136 / 0.100\n",
      "Cost / err at iteration i=0, j=70: 336.279 / 0.093\n",
      "Cost / err at iteration i=0, j=80: 313.850 / 0.084\n",
      "Cost / err at iteration i=1, j=0: 309.886 / 0.085\n",
      "Cost / err at iteration i=1, j=10: 290.037 / 0.077\n",
      "Cost / err at iteration i=1, j=20: 275.003 / 0.076\n",
      "Cost / err at iteration i=1, j=30: 271.639 / 0.080\n",
      "Cost / err at iteration i=1, j=40: 264.833 / 0.074\n",
      "Cost / err at iteration i=1, j=50: 251.167 / 0.070\n",
      "Cost / err at iteration i=1, j=60: 245.491 / 0.069\n",
      "Cost / err at iteration i=1, j=70: 238.595 / 0.064\n",
      "Cost / err at iteration i=1, j=80: 230.059 / 0.058\n",
      "Cost / err at iteration i=2, j=0: 228.656 / 0.057\n",
      "Cost / err at iteration i=2, j=10: 221.946 / 0.058\n",
      "Cost / err at iteration i=2, j=20: 212.991 / 0.057\n",
      "Cost / err at iteration i=2, j=30: 215.009 / 0.055\n",
      "Cost / err at iteration i=2, j=40: 215.107 / 0.055\n",
      "Cost / err at iteration i=2, j=50: 205.816 / 0.055\n",
      "Cost / err at iteration i=2, j=60: 202.024 / 0.055\n",
      "Cost / err at iteration i=2, j=70: 197.239 / 0.052\n",
      "Cost / err at iteration i=2, j=80: 191.924 / 0.047\n",
      "Cost / err at iteration i=3, j=0: 190.936 / 0.048\n",
      "Cost / err at iteration i=3, j=10: 187.283 / 0.048\n",
      "Cost / err at iteration i=3, j=20: 182.240 / 0.046\n",
      "Cost / err at iteration i=3, j=30: 188.066 / 0.050\n",
      "Cost / err at iteration i=3, j=40: 190.117 / 0.048\n",
      "Cost / err at iteration i=3, j=50: 182.520 / 0.048\n",
      "Cost / err at iteration i=3, j=60: 178.883 / 0.045\n",
      "Cost / err at iteration i=3, j=70: 175.975 / 0.045\n",
      "Cost / err at iteration i=3, j=80: 172.171 / 0.042\n",
      "Cost / err at iteration i=4, j=0: 171.314 / 0.043\n",
      "Cost / err at iteration i=4, j=10: 168.214 / 0.041\n",
      "Cost / err at iteration i=4, j=20: 162.021 / 0.044\n",
      "Cost / err at iteration i=4, j=30: 169.866 / 0.044\n",
      "Cost / err at iteration i=4, j=40: 171.791 / 0.046\n",
      "Cost / err at iteration i=4, j=50: 164.481 / 0.044\n",
      "Cost / err at iteration i=4, j=60: 162.645 / 0.040\n",
      "Cost / err at iteration i=4, j=70: 162.156 / 0.042\n",
      "Cost / err at iteration i=4, j=80: 159.134 / 0.041\n",
      "Cost / err at iteration i=5, j=0: 157.964 / 0.039\n",
      "Cost / err at iteration i=5, j=10: 154.191 / 0.037\n",
      "Cost / err at iteration i=5, j=20: 148.618 / 0.039\n",
      "Cost / err at iteration i=5, j=30: 157.463 / 0.039\n",
      "Cost / err at iteration i=5, j=40: 158.058 / 0.039\n",
      "Cost / err at iteration i=5, j=50: 150.680 / 0.039\n",
      "Cost / err at iteration i=5, j=60: 150.001 / 0.035\n",
      "Cost / err at iteration i=5, j=70: 151.491 / 0.036\n",
      "Cost / err at iteration i=5, j=80: 149.661 / 0.037\n",
      "Cost / err at iteration i=6, j=0: 148.173 / 0.038\n",
      "Cost / err at iteration i=6, j=10: 144.231 / 0.036\n",
      "Cost / err at iteration i=6, j=20: 137.487 / 0.034\n",
      "Cost / err at iteration i=6, j=30: 147.352 / 0.038\n",
      "Cost / err at iteration i=6, j=40: 148.667 / 0.036\n",
      "Cost / err at iteration i=6, j=50: 141.763 / 0.037\n",
      "Cost / err at iteration i=6, j=60: 142.236 / 0.031\n",
      "Cost / err at iteration i=6, j=70: 144.337 / 0.036\n",
      "Cost / err at iteration i=6, j=80: 143.949 / 0.034\n",
      "Cost / err at iteration i=7, j=0: 142.616 / 0.032\n",
      "Cost / err at iteration i=7, j=10: 137.849 / 0.035\n",
      "Cost / err at iteration i=7, j=20: 131.907 / 0.029\n",
      "Cost / err at iteration i=7, j=30: 141.397 / 0.038\n",
      "Cost / err at iteration i=7, j=40: 142.109 / 0.035\n",
      "Cost / err at iteration i=7, j=50: 135.974 / 0.036\n",
      "Cost / err at iteration i=7, j=60: 137.507 / 0.032\n",
      "Cost / err at iteration i=7, j=70: 140.437 / 0.036\n",
      "Cost / err at iteration i=7, j=80: 140.214 / 0.031\n",
      "Cost / err at iteration i=8, j=0: 138.945 / 0.030\n",
      "Cost / err at iteration i=8, j=10: 134.719 / 0.035\n",
      "Cost / err at iteration i=8, j=20: 127.668 / 0.031\n",
      "Cost / err at iteration i=8, j=30: 137.049 / 0.033\n",
      "Cost / err at iteration i=8, j=40: 138.517 / 0.033\n",
      "Cost / err at iteration i=8, j=50: 132.910 / 0.034\n",
      "Cost / err at iteration i=8, j=60: 135.288 / 0.034\n",
      "Cost / err at iteration i=8, j=70: 138.902 / 0.035\n",
      "Cost / err at iteration i=8, j=80: 137.990 / 0.032\n",
      "Cost / err at iteration i=9, j=0: 137.005 / 0.031\n",
      "Cost / err at iteration i=9, j=10: 133.034 / 0.035\n",
      "Cost / err at iteration i=9, j=20: 126.801 / 0.032\n",
      "Cost / err at iteration i=9, j=30: 135.570 / 0.030\n",
      "Cost / err at iteration i=9, j=40: 137.869 / 0.032\n",
      "Cost / err at iteration i=9, j=50: 132.603 / 0.032\n",
      "Cost / err at iteration i=9, j=60: 135.458 / 0.033\n",
      "Cost / err at iteration i=9, j=70: 140.250 / 0.034\n",
      "Cost / err at iteration i=9, j=80: 138.559 / 0.031\n",
      "Cost / err at iteration i=10, j=0: 137.719 / 0.031\n",
      "Cost / err at iteration i=10, j=10: 134.971 / 0.033\n",
      "Cost / err at iteration i=10, j=20: 125.962 / 0.030\n",
      "Cost / err at iteration i=10, j=30: 133.796 / 0.030\n",
      "Cost / err at iteration i=10, j=40: 136.461 / 0.030\n",
      "Cost / err at iteration i=10, j=50: 131.220 / 0.031\n",
      "Cost / err at iteration i=10, j=60: 134.182 / 0.031\n",
      "Cost / err at iteration i=10, j=70: 141.293 / 0.033\n",
      "Cost / err at iteration i=10, j=80: 138.541 / 0.032\n",
      "Cost / err at iteration i=11, j=0: 137.963 / 0.031\n",
      "Cost / err at iteration i=11, j=10: 135.922 / 0.032\n",
      "Cost / err at iteration i=11, j=20: 128.999 / 0.031\n",
      "Cost / err at iteration i=11, j=30: 135.013 / 0.029\n",
      "Cost / err at iteration i=11, j=40: 138.231 / 0.031\n",
      "Cost / err at iteration i=11, j=50: 131.938 / 0.032\n",
      "Cost / err at iteration i=11, j=60: 135.109 / 0.030\n",
      "Cost / err at iteration i=11, j=70: 143.582 / 0.033\n",
      "Cost / err at iteration i=11, j=80: 141.900 / 0.031\n",
      "Cost / err at iteration i=12, j=0: 141.447 / 0.032\n",
      "Cost / err at iteration i=12, j=10: 140.745 / 0.035\n",
      "Cost / err at iteration i=12, j=20: 130.670 / 0.030\n",
      "Cost / err at iteration i=12, j=30: 137.518 / 0.034\n",
      "Cost / err at iteration i=12, j=40: 139.508 / 0.029\n",
      "Cost / err at iteration i=12, j=50: 132.247 / 0.030\n",
      "Cost / err at iteration i=12, j=60: 134.400 / 0.030\n",
      "Cost / err at iteration i=12, j=70: 143.914 / 0.034\n",
      "Cost / err at iteration i=12, j=80: 141.567 / 0.032\n",
      "Cost / err at iteration i=13, j=0: 140.757 / 0.030\n",
      "Cost / err at iteration i=13, j=10: 142.997 / 0.033\n",
      "Cost / err at iteration i=13, j=20: 137.298 / 0.032\n",
      "Cost / err at iteration i=13, j=30: 142.207 / 0.033\n",
      "Cost / err at iteration i=13, j=40: 142.870 / 0.030\n",
      "Cost / err at iteration i=13, j=50: 135.047 / 0.029\n",
      "Cost / err at iteration i=13, j=60: 137.752 / 0.031\n",
      "Cost / err at iteration i=13, j=70: 147.236 / 0.035\n",
      "Cost / err at iteration i=13, j=80: 146.032 / 0.035\n",
      "Cost / err at iteration i=14, j=0: 145.064 / 0.034\n",
      "Cost / err at iteration i=14, j=10: 147.652 / 0.033\n",
      "Cost / err at iteration i=14, j=20: 139.110 / 0.029\n",
      "Cost / err at iteration i=14, j=30: 145.476 / 0.034\n",
      "Cost / err at iteration i=14, j=40: 145.184 / 0.033\n",
      "Cost / err at iteration i=14, j=50: 137.474 / 0.028\n",
      "Cost / err at iteration i=14, j=60: 139.381 / 0.032\n",
      "Cost / err at iteration i=14, j=70: 149.063 / 0.033\n",
      "Cost / err at iteration i=14, j=80: 148.116 / 0.035\n",
      "Cost / err at iteration i=15, j=0: 146.727 / 0.034\n",
      "Cost / err at iteration i=15, j=10: 149.646 / 0.033\n",
      "Cost / err at iteration i=15, j=20: 148.031 / 0.033\n",
      "Cost / err at iteration i=15, j=30: 150.776 / 0.031\n",
      "Cost / err at iteration i=15, j=40: 150.908 / 0.031\n",
      "Cost / err at iteration i=15, j=50: 143.804 / 0.029\n",
      "Cost / err at iteration i=15, j=60: 144.340 / 0.030\n",
      "Cost / err at iteration i=15, j=70: 153.978 / 0.033\n",
      "Cost / err at iteration i=15, j=80: 153.457 / 0.036\n",
      "Cost / err at iteration i=16, j=0: 151.563 / 0.035\n",
      "Cost / err at iteration i=16, j=10: 154.101 / 0.033\n",
      "Cost / err at iteration i=16, j=20: 147.422 / 0.030\n",
      "Cost / err at iteration i=16, j=30: 156.116 / 0.032\n",
      "Cost / err at iteration i=16, j=40: 152.492 / 0.030\n",
      "Cost / err at iteration i=16, j=50: 146.768 / 0.028\n",
      "Cost / err at iteration i=16, j=60: 148.473 / 0.030\n",
      "Cost / err at iteration i=16, j=70: 156.096 / 0.032\n",
      "Cost / err at iteration i=16, j=80: 157.795 / 0.036\n",
      "Cost / err at iteration i=17, j=0: 156.523 / 0.036\n",
      "Cost / err at iteration i=17, j=10: 154.922 / 0.033\n",
      "Cost / err at iteration i=17, j=20: 158.473 / 0.033\n",
      "Cost / err at iteration i=17, j=30: 160.968 / 0.030\n",
      "Cost / err at iteration i=17, j=40: 159.797 / 0.029\n"
     ]
    },
    {
     "name": "stdout",
     "output_type": "stream",
     "text": [
      "Cost / err at iteration i=17, j=50: 155.401 / 0.029\n",
      "Cost / err at iteration i=17, j=60: 153.169 / 0.030\n",
      "Cost / err at iteration i=17, j=70: 164.559 / 0.031\n",
      "Cost / err at iteration i=17, j=80: 164.041 / 0.034\n",
      "Cost / err at iteration i=18, j=0: 161.940 / 0.034\n",
      "Cost / err at iteration i=18, j=10: 160.667 / 0.033\n",
      "Cost / err at iteration i=18, j=20: 158.029 / 0.031\n",
      "Cost / err at iteration i=18, j=30: 168.438 / 0.033\n",
      "Cost / err at iteration i=18, j=40: 164.536 / 0.030\n",
      "Cost / err at iteration i=18, j=50: 155.894 / 0.025\n",
      "Cost / err at iteration i=18, j=60: 161.476 / 0.030\n",
      "Cost / err at iteration i=18, j=70: 166.172 / 0.032\n",
      "Cost / err at iteration i=18, j=80: 167.353 / 0.035\n",
      "Cost / err at iteration i=19, j=0: 168.267 / 0.034\n",
      "Cost / err at iteration i=19, j=10: 164.755 / 0.033\n",
      "Cost / err at iteration i=19, j=20: 175.852 / 0.035\n",
      "Cost / err at iteration i=19, j=30: 172.850 / 0.032\n",
      "Cost / err at iteration i=19, j=40: 174.667 / 0.031\n",
      "Cost / err at iteration i=19, j=50: 168.883 / 0.026\n",
      "Cost / err at iteration i=19, j=60: 169.682 / 0.034\n",
      "Cost / err at iteration i=19, j=70: 182.387 / 0.030\n",
      "Cost / err at iteration i=19, j=80: 179.453 / 0.032\n",
      "Cost / err at iteration i=20, j=0: 177.548 / 0.031\n",
      "Cost / err at iteration i=20, j=10: 160.764 / 0.031\n",
      "Cost / err at iteration i=20, j=20: 170.279 / 0.035\n",
      "Cost / err at iteration i=20, j=30: 182.018 / 0.032\n",
      "Cost / err at iteration i=20, j=40: 188.905 / 0.033\n",
      "Cost / err at iteration i=20, j=50: 191.947 / 0.034\n",
      "Cost / err at iteration i=20, j=60: 185.568 / 0.036\n",
      "Cost / err at iteration i=20, j=70: 204.067 / 0.037\n",
      "Cost / err at iteration i=20, j=80: 198.254 / 0.038\n",
      "Cost / err at iteration i=21, j=0: 195.533 / 0.036\n",
      "Cost / err at iteration i=21, j=10: 184.100 / 0.036\n",
      "Cost / err at iteration i=21, j=20: 177.266 / 0.033\n",
      "Cost / err at iteration i=21, j=30: 189.151 / 0.035\n",
      "Cost / err at iteration i=21, j=40: 194.068 / 0.034\n",
      "Cost / err at iteration i=21, j=50: 190.537 / 0.031\n",
      "Cost / err at iteration i=21, j=60: 186.710 / 0.034\n",
      "Cost / err at iteration i=21, j=70: 179.694 / 0.034\n",
      "Cost / err at iteration i=21, j=80: 190.496 / 0.033\n",
      "Cost / err at iteration i=22, j=0: 193.083 / 0.032\n",
      "Cost / err at iteration i=22, j=10: 204.255 / 0.039\n",
      "Cost / err at iteration i=22, j=20: 199.992 / 0.036\n",
      "Cost / err at iteration i=22, j=30: 185.166 / 0.034\n",
      "Cost / err at iteration i=22, j=40: 191.061 / 0.035\n",
      "Cost / err at iteration i=22, j=50: 181.842 / 0.036\n",
      "Cost / err at iteration i=22, j=60: 174.361 / 0.031\n",
      "Cost / err at iteration i=22, j=70: 175.573 / 0.029\n",
      "Cost / err at iteration i=22, j=80: 193.879 / 0.036\n",
      "Cost / err at iteration i=23, j=0: 194.816 / 0.036\n",
      "Cost / err at iteration i=23, j=10: 179.477 / 0.037\n",
      "Cost / err at iteration i=23, j=20: 168.887 / 0.033\n",
      "Cost / err at iteration i=23, j=30: 174.559 / 0.033\n",
      "Cost / err at iteration i=23, j=40: 174.566 / 0.034\n",
      "Cost / err at iteration i=23, j=50: 168.920 / 0.033\n",
      "Cost / err at iteration i=23, j=60: 164.730 / 0.028\n",
      "Cost / err at iteration i=23, j=70: 166.030 / 0.030\n",
      "Cost / err at iteration i=23, j=80: 172.127 / 0.032\n",
      "Cost / err at iteration i=24, j=0: 173.847 / 0.033\n",
      "Cost / err at iteration i=24, j=10: 174.734 / 0.034\n",
      "Cost / err at iteration i=24, j=20: 167.459 / 0.031\n",
      "Cost / err at iteration i=24, j=30: 168.294 / 0.030\n",
      "Cost / err at iteration i=24, j=40: 169.803 / 0.032\n",
      "Cost / err at iteration i=24, j=50: 171.306 / 0.031\n",
      "Cost / err at iteration i=24, j=60: 167.402 / 0.030\n",
      "Cost / err at iteration i=24, j=70: 166.671 / 0.029\n",
      "Cost / err at iteration i=24, j=80: 173.115 / 0.032\n",
      "Cost / err at iteration i=25, j=0: 174.254 / 0.032\n",
      "Cost / err at iteration i=25, j=10: 175.364 / 0.033\n",
      "Cost / err at iteration i=25, j=20: 171.440 / 0.031\n",
      "Cost / err at iteration i=25, j=30: 170.371 / 0.029\n",
      "Cost / err at iteration i=25, j=40: 171.537 / 0.031\n",
      "Cost / err at iteration i=25, j=50: 173.545 / 0.030\n",
      "Cost / err at iteration i=25, j=60: 170.539 / 0.029\n",
      "Cost / err at iteration i=25, j=70: 170.574 / 0.028\n",
      "Cost / err at iteration i=25, j=80: 175.932 / 0.031\n",
      "Cost / err at iteration i=26, j=0: 176.742 / 0.031\n",
      "Cost / err at iteration i=26, j=10: 176.521 / 0.032\n",
      "Cost / err at iteration i=26, j=20: 173.934 / 0.031\n",
      "Cost / err at iteration i=26, j=30: 175.012 / 0.029\n",
      "Cost / err at iteration i=26, j=40: 175.067 / 0.031\n",
      "Cost / err at iteration i=26, j=50: 176.516 / 0.030\n",
      "Cost / err at iteration i=26, j=60: 173.375 / 0.029\n",
      "Cost / err at iteration i=26, j=70: 174.913 / 0.028\n",
      "Cost / err at iteration i=26, j=80: 180.569 / 0.032\n",
      "Cost / err at iteration i=27, j=0: 181.176 / 0.031\n",
      "Cost / err at iteration i=27, j=10: 179.571 / 0.032\n",
      "Cost / err at iteration i=27, j=20: 177.325 / 0.031\n",
      "Cost / err at iteration i=27, j=30: 179.076 / 0.029\n",
      "Cost / err at iteration i=27, j=40: 179.242 / 0.030\n",
      "Cost / err at iteration i=27, j=50: 178.919 / 0.030\n",
      "Cost / err at iteration i=27, j=60: 176.572 / 0.029\n",
      "Cost / err at iteration i=27, j=70: 179.099 / 0.029\n",
      "Cost / err at iteration i=27, j=80: 185.104 / 0.032\n",
      "Cost / err at iteration i=28, j=0: 185.431 / 0.033\n",
      "Cost / err at iteration i=28, j=10: 182.819 / 0.031\n",
      "Cost / err at iteration i=28, j=20: 181.569 / 0.031\n",
      "Cost / err at iteration i=28, j=30: 183.948 / 0.029\n",
      "Cost / err at iteration i=28, j=40: 184.360 / 0.030\n",
      "Cost / err at iteration i=28, j=50: 181.526 / 0.031\n",
      "Cost / err at iteration i=28, j=60: 179.918 / 0.029\n",
      "Cost / err at iteration i=28, j=70: 183.142 / 0.030\n",
      "Cost / err at iteration i=28, j=80: 189.151 / 0.034\n",
      "Cost / err at iteration i=29, j=0: 189.154 / 0.033\n",
      "Cost / err at iteration i=29, j=10: 185.737 / 0.031\n",
      "Cost / err at iteration i=29, j=20: 185.281 / 0.031\n",
      "Cost / err at iteration i=29, j=30: 188.628 / 0.029\n",
      "Cost / err at iteration i=29, j=40: 189.870 / 0.033\n",
      "Cost / err at iteration i=29, j=50: 185.028 / 0.031\n",
      "Cost / err at iteration i=29, j=60: 183.772 / 0.029\n",
      "Cost / err at iteration i=29, j=70: 187.598 / 0.031\n",
      "Cost / err at iteration i=29, j=80: 193.572 / 0.034\n",
      "Model saved in path: models/model.ckpt\n"
     ]
    },
    {
     "data": {
      "image/png": "[encoded data removed]",
      "text/plain": [
       "<Figure size 432x288 with 1 Axes>"
      ]
     },
     "metadata": {
      "needs_background": "light"
     },
     "output_type": "display_data"
    }
   ],
   "source": [
    "main()"
   ]
  },
  {
   "cell_type": "code",
   "execution_count": null,
   "metadata": {},
   "outputs": [],
   "source": []
  }
 ],
 "metadata": {
  "kernelspec": {
   "display_name": "Python [conda env:tensorflow3.6]",
   "language": "python",
   "name": "conda-env-tensorflow3.6-py"
  },
  "language_info": {
   "codemirror_mode": {
    "name": "ipython",
    "version": 3
   },
   "file_extension": ".py",
   "mimetype": "text/x-python",
   "name": "python",
   "nbconvert_exporter": "python",
   "pygments_lexer": "ipython3",
   "version": "3.6.8"
  }
 },
 "nbformat": 4,
 "nbformat_minor": 2
}
