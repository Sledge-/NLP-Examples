{
 "cells": [
  {
   "cell_type": "code",
   "execution_count": 1,
   "metadata": {},
   "outputs": [],
   "source": [
    "import numpy as np\n",
    "import tensorflow as tf"
   ]
  },
  {
   "cell_type": "code",
   "execution_count": 2,
   "metadata": {},
   "outputs": [],
   "source": [
    "import matplotlib.pyplot as plt"
   ]
  },
  {
   "cell_type": "code",
   "execution_count": null,
   "metadata": {},
   "outputs": [],
   "source": [
    "# import os\n",
    "# import sys\n",
    "# sys.path.append(os.path.abspath('..'))"
   ]
  },
  {
   "cell_type": "code",
   "execution_count": 3,
   "metadata": {},
   "outputs": [],
   "source": [
    "# these utils will load kaggle's digit data.\n",
    "from ann_class2_util import get_normalized_data, y2indicator"
   ]
  },
  {
   "cell_type": "code",
   "execution_count": 4,
   "metadata": {},
   "outputs": [],
   "source": [
    "def error_rate(p, t):\n",
    "    return np.mean(p != t)"
   ]
  },
  {
   "cell_type": "code",
   "execution_count": 5,
   "metadata": {},
   "outputs": [
    {
     "name": "stdout",
     "output_type": "stream",
     "text": [
      "Reading in and transforming data...\n"
     ]
    }
   ],
   "source": [
    "Xtrain, Xtest, Ytrain, Ytest  = get_normalized_data()"
   ]
  },
  {
   "cell_type": "code",
   "execution_count": 6,
   "metadata": {},
   "outputs": [],
   "source": [
    "def show_digit_with_label(X, Y, index):\n",
    "    plt.title(\"Label: %d\" % Y[index])\n",
    "    plt.imshow(Xtrain[index,:].reshape(28,28))"
   ]
  },
  {
   "cell_type": "code",
   "execution_count": 7,
   "metadata": {},
   "outputs": [
    {
     "data": {
      "image/png": "[encoded data removed]",
      "text/plain": [
       "<Figure size 432x288 with 1 Axes>"
      ]
     },
     "metadata": {
      "needs_background": "light"
     },
     "output_type": "display_data"
    }
   ],
   "source": [
    "show_digit_with_label(Xtrain, Ytrain, 0)"
   ]
  },
  {
   "cell_type": "code",
   "execution_count": 8,
   "metadata": {},
   "outputs": [
    {
     "data": {
      "image/png": "[encoded data removed]",
      "text/plain": [
       "<Figure size 432x288 with 1 Axes>"
      ]
     },
     "metadata": {
      "needs_background": "light"
     },
     "output_type": "display_data"
    }
   ],
   "source": [
    "show_digit_with_label(Xtrain, Ytrain, 1)"
   ]
  },
  {
   "cell_type": "code",
   "execution_count": 9,
   "metadata": {},
   "outputs": [
    {
     "data": {
      "image/png": "[encoded data removed]",
      "text/plain": [
       "<Figure size 432x288 with 1 Axes>"
      ]
     },
     "metadata": {
      "needs_background": "light"
     },
     "output_type": "display_data"
    }
   ],
   "source": [
    "show_digit_with_label(Xtrain, Ytrain, 2)"
   ]
  },
  {
   "cell_type": "code",
   "execution_count": 10,
   "metadata": {},
   "outputs": [
    {
     "data": {
      "text/plain": [
       "array([[0., 0., 0., ..., 0., 0., 0.],\n",
       "       [0., 0., 0., ..., 0., 0., 0.],\n",
       "       [0., 0., 0., ..., 0., 0., 0.],\n",
       "       [0., 0., 0., ..., 0., 0., 0.],\n",
       "       [0., 0., 0., ..., 0., 0., 0.]], dtype=float32)"
      ]
     },
     "execution_count": 10,
     "metadata": {},
     "output_type": "execute_result"
    }
   ],
   "source": [
    "Xtrain[0:5,]"
   ]
  },
  {
   "cell_type": "code",
   "execution_count": 11,
   "metadata": {},
   "outputs": [
    {
     "data": {
      "text/plain": [
       "array([[0., 0., 0., ..., 0., 0., 0.],\n",
       "       [0., 0., 0., ..., 0., 0., 0.],\n",
       "       [0., 0., 0., ..., 0., 0., 0.],\n",
       "       [0., 0., 0., ..., 0., 0., 0.],\n",
       "       [0., 0., 0., ..., 0., 0., 0.]], dtype=float32)"
      ]
     },
     "execution_count": 11,
     "metadata": {},
     "output_type": "execute_result"
    }
   ],
   "source": [
    "Xtest[0:5,]"
   ]
  },
  {
   "cell_type": "code",
   "execution_count": 12,
   "metadata": {},
   "outputs": [
    {
     "data": {
      "text/plain": [
       "array([5., 0., 1., 0., 1.], dtype=float32)"
      ]
     },
     "execution_count": 12,
     "metadata": {},
     "output_type": "execute_result"
    }
   ],
   "source": [
    "Ytrain[0:5]"
   ]
  },
  {
   "cell_type": "code",
   "execution_count": 13,
   "metadata": {},
   "outputs": [
    {
     "data": {
      "text/plain": [
       "array([4., 5., 7., 8., 3.], dtype=float32)"
      ]
     },
     "execution_count": 13,
     "metadata": {},
     "output_type": "execute_result"
    }
   ],
   "source": [
    "Ytest[0:5]"
   ]
  },
  {
   "cell_type": "code",
   "execution_count": 19,
   "metadata": {},
   "outputs": [],
   "source": [
    "def main():\n",
    "    Xtrain, Xtest, Ytrain, Ytest  = get_normalized_data()\n",
    "    \n",
    "    max_iter = 30\n",
    "    print_period = 10\n",
    "    lr = 0.00004\n",
    "    reg = 0.1\n",
    "    \n",
    "    print(Xtrain.shape)\n",
    "    print(Ytrain.shape)\n",
    "    print(Xtest.shape)\n",
    "    print(Ytest.shape)\n",
    "    \n",
    "    Ytrain_ind = y2indicator(Ytrain)\n",
    "    Ytest_ind = y2indicator(Ytest)\n",
    "    \n",
    "    print(Ytrain_ind.shape)\n",
    "    print(Ytest_ind.shape)\n",
    "    \n",
    "    N, D = Xtrain.shape\n",
    "    batch_sz = 500\n",
    "    n_batches = N//batch_sz\n",
    "    \n",
    "    M1 = 300\n",
    "    M2 = 100\n",
    "    K = 10\n",
    "    W1_init = np.random.randn(D, M1) / 28\n",
    "    b1_init = np.zeros(M1)\n",
    "    W2_init = np.random.randn(M1, M2) / np.sqrt(M1)\n",
    "    b2_init = np.zeros(M2)\n",
    "    W3_init = np.random.randn(M2, K) / np.sqrt(M2)\n",
    "    b3_init = np.zeros(K)\n",
    "    \n",
    "    X = tf.placeholder(tf.float32, shape=(None, D), name='X')\n",
    "    T = tf.placeholder(tf.float32, shape=(None, K), name='T')\n",
    "    W1 = tf.Variable(W1_init.astype(np.float32))\n",
    "    b1 = tf.Variable(b1_init.astype(np.float32))\n",
    "    W2 = tf.Variable(W2_init.astype(np.float32))\n",
    "    b2 = tf.Variable(b2_init.astype(np.float32))\n",
    "    W3 = tf.Variable(W3_init.astype(np.float32))\n",
    "    b3 = tf.Variable(b3_init.astype(np.float32))\n",
    "    \n",
    "    Z1 = tf.nn.relu(tf.matmul(X, W1) + b1)\n",
    "    Z2 = tf.nn.relu(tf.matmul(Z1, W2) + b2)\n",
    "    Yish = tf.matmul(Z2, W3) + b3\n",
    "    \n",
    "    cost = tf.reduce_sum(tf.nn.softmax_cross_entropy_with_logits(logits=Yish, labels=T))\n",
    "\n",
    "    train_op = tf.train.RMSPropOptimizer(lr, decay=0.99, momentum=0.9).minimize(cost)\n",
    "    \n",
    "    predict_op = tf.argmax(Yish, 1)\n",
    "    \n",
    "    LL = []\n",
    "    init = tf.global_variables_initializer()\n",
    "    \n",
    "    saver = tf.train.Saver()\n",
    "    \n",
    "    with tf.Session() as session:\n",
    "        session.run(init)\n",
    "        \n",
    "        for i in range(max_iter):\n",
    "            for j in range(n_batches):\n",
    "                Xbatch = Xtrain[j*batch_sz:(j*batch_sz + batch_sz),]\n",
    "                Ybatch = Ytrain_ind[j*batch_sz:(j*batch_sz + batch_sz)]\n",
    "                session.run(train_op, feed_dict={X: Xbatch, T: Ybatch})\n",
    "                \n",
    "                if j % print_period == 0:\n",
    "                    test_cost = session.run(cost, feed_dict={X: Xtest, T: Ytest_ind})\n",
    "                    prediction = session.run(predict_op, feed_dict={X: Xtest})\n",
    "                    err = error_rate(prediction, Ytest)\n",
    "                    print(\"Cost / err at iteration i=%d, j=%d: %.3f / %.3f\" % (i, j, test_cost, err))\n",
    "                    LL.append(test_cost)\n",
    "        print(\"final accuracy: %.4f\" % (1-err) )\n",
    "        save_path = saver.save(session, \"models/model.ckpt\")\n",
    "        print(\"Model saved in path: %s\" % save_path)\n",
    "                    \n",
    "        plt.plot(LL)\n",
    "        plt.show()\n",
    "    "
   ]
  },
  {
   "cell_type": "code",
   "execution_count": null,
   "metadata": {},
   "outputs": [],
   "source": []
  },
  {
   "cell_type": "code",
   "execution_count": 20,
   "metadata": {},
   "outputs": [
    {
     "name": "stdout",
     "output_type": "stream",
     "text": [
      "Reading in and transforming data...\n",
      "(41000, 784)\n",
      "(41000,)\n",
      "(1000, 784)\n",
      "(1000,)\n",
      "(41000, 10)\n",
      "(1000, 10)\n",
      "Cost / err at iteration i=0, j=0: 2359.630 / 0.895\n",
      "Cost / err at iteration i=0, j=10: 1457.049 / 0.352\n",
      "Cost / err at iteration i=0, j=20: 809.358 / 0.210\n",
      "Cost / err at iteration i=0, j=30: 543.172 / 0.157\n",
      "Cost / err at iteration i=0, j=40: 430.786 / 0.126\n",
      "Cost / err at iteration i=0, j=50: 380.269 / 0.117\n",
      "Cost / err at iteration i=0, j=60: 332.785 / 0.102\n",
      "Cost / err at iteration i=0, j=70: 309.004 / 0.095\n",
      "Cost / err at iteration i=0, j=80: 293.820 / 0.098\n",
      "Cost / err at iteration i=1, j=0: 287.371 / 0.094\n",
      "Cost / err at iteration i=1, j=10: 263.328 / 0.085\n",
      "Cost / err at iteration i=1, j=20: 252.615 / 0.084\n",
      "Cost / err at iteration i=1, j=30: 243.143 / 0.076\n",
      "Cost / err at iteration i=1, j=40: 231.881 / 0.074\n",
      "Cost / err at iteration i=1, j=50: 220.924 / 0.067\n",
      "Cost / err at iteration i=1, j=60: 212.921 / 0.062\n",
      "Cost / err at iteration i=1, j=70: 209.494 / 0.064\n",
      "Cost / err at iteration i=1, j=80: 202.847 / 0.055\n",
      "Cost / err at iteration i=2, j=0: 198.733 / 0.055\n",
      "Cost / err at iteration i=2, j=10: 189.272 / 0.057\n",
      "Cost / err at iteration i=2, j=20: 182.111 / 0.049\n",
      "Cost / err at iteration i=2, j=30: 178.709 / 0.051\n",
      "Cost / err at iteration i=2, j=40: 177.238 / 0.046\n",
      "Cost / err at iteration i=2, j=50: 169.282 / 0.046\n",
      "Cost / err at iteration i=2, j=60: 165.707 / 0.047\n",
      "Cost / err at iteration i=2, j=70: 166.263 / 0.047\n",
      "Cost / err at iteration i=2, j=80: 160.470 / 0.042\n",
      "Cost / err at iteration i=3, j=0: 156.737 / 0.042\n",
      "Cost / err at iteration i=3, j=10: 151.749 / 0.046\n",
      "Cost / err at iteration i=3, j=20: 146.655 / 0.044\n",
      "Cost / err at iteration i=3, j=30: 146.163 / 0.043\n",
      "Cost / err at iteration i=3, j=40: 147.268 / 0.041\n",
      "Cost / err at iteration i=3, j=50: 140.115 / 0.038\n",
      "Cost / err at iteration i=3, j=60: 139.460 / 0.040\n",
      "Cost / err at iteration i=3, j=70: 140.185 / 0.038\n",
      "Cost / err at iteration i=3, j=80: 135.490 / 0.040\n",
      "Cost / err at iteration i=4, j=0: 131.885 / 0.039\n",
      "Cost / err at iteration i=4, j=10: 129.042 / 0.039\n",
      "Cost / err at iteration i=4, j=20: 125.380 / 0.039\n",
      "Cost / err at iteration i=4, j=30: 126.729 / 0.041\n",
      "Cost / err at iteration i=4, j=40: 130.221 / 0.037\n",
      "Cost / err at iteration i=4, j=50: 124.048 / 0.038\n",
      "Cost / err at iteration i=4, j=60: 125.546 / 0.036\n",
      "Cost / err at iteration i=4, j=70: 125.348 / 0.035\n",
      "Cost / err at iteration i=4, j=80: 121.421 / 0.035\n",
      "Cost / err at iteration i=5, j=0: 117.515 / 0.038\n",
      "Cost / err at iteration i=5, j=10: 116.061 / 0.039\n",
      "Cost / err at iteration i=5, j=20: 113.396 / 0.035\n",
      "Cost / err at iteration i=5, j=30: 115.827 / 0.039\n",
      "Cost / err at iteration i=5, j=40: 120.114 / 0.035\n",
      "Cost / err at iteration i=5, j=50: 112.983 / 0.037\n",
      "Cost / err at iteration i=5, j=60: 116.055 / 0.032\n",
      "Cost / err at iteration i=5, j=70: 113.913 / 0.035\n",
      "Cost / err at iteration i=5, j=80: 112.889 / 0.035\n",
      "Cost / err at iteration i=6, j=0: 108.932 / 0.035\n",
      "Cost / err at iteration i=6, j=10: 107.861 / 0.035\n",
      "Cost / err at iteration i=6, j=20: 106.684 / 0.032\n",
      "Cost / err at iteration i=6, j=30: 109.133 / 0.035\n",
      "Cost / err at iteration i=6, j=40: 114.058 / 0.034\n",
      "Cost / err at iteration i=6, j=50: 106.778 / 0.037\n",
      "Cost / err at iteration i=6, j=60: 110.715 / 0.033\n",
      "Cost / err at iteration i=6, j=70: 108.010 / 0.032\n",
      "Cost / err at iteration i=6, j=80: 108.436 / 0.031\n",
      "Cost / err at iteration i=7, j=0: 104.744 / 0.032\n",
      "Cost / err at iteration i=7, j=10: 103.733 / 0.032\n",
      "Cost / err at iteration i=7, j=20: 103.318 / 0.031\n",
      "Cost / err at iteration i=7, j=30: 105.755 / 0.035\n",
      "Cost / err at iteration i=7, j=40: 110.913 / 0.032\n",
      "Cost / err at iteration i=7, j=50: 103.902 / 0.033\n",
      "Cost / err at iteration i=7, j=60: 108.320 / 0.036\n",
      "Cost / err at iteration i=7, j=70: 105.067 / 0.033\n",
      "Cost / err at iteration i=7, j=80: 106.222 / 0.033\n",
      "Cost / err at iteration i=8, j=0: 103.328 / 0.032\n",
      "Cost / err at iteration i=8, j=10: 103.457 / 0.032\n",
      "Cost / err at iteration i=8, j=20: 102.545 / 0.031\n",
      "Cost / err at iteration i=8, j=30: 103.241 / 0.034\n",
      "Cost / err at iteration i=8, j=40: 108.110 / 0.031\n",
      "Cost / err at iteration i=8, j=50: 103.171 / 0.032\n",
      "Cost / err at iteration i=8, j=60: 106.140 / 0.033\n",
      "Cost / err at iteration i=8, j=70: 104.369 / 0.030\n",
      "Cost / err at iteration i=8, j=80: 105.837 / 0.036\n",
      "Cost / err at iteration i=9, j=0: 103.824 / 0.034\n",
      "Cost / err at iteration i=9, j=10: 107.050 / 0.032\n",
      "Cost / err at iteration i=9, j=20: 103.919 / 0.031\n",
      "Cost / err at iteration i=9, j=30: 104.918 / 0.034\n",
      "Cost / err at iteration i=9, j=40: 108.827 / 0.031\n",
      "Cost / err at iteration i=9, j=50: 104.483 / 0.030\n",
      "Cost / err at iteration i=9, j=60: 107.443 / 0.032\n",
      "Cost / err at iteration i=9, j=70: 105.092 / 0.032\n",
      "Cost / err at iteration i=9, j=80: 106.540 / 0.037\n",
      "Cost / err at iteration i=10, j=0: 104.886 / 0.035\n",
      "Cost / err at iteration i=10, j=10: 106.528 / 0.034\n",
      "Cost / err at iteration i=10, j=20: 105.050 / 0.034\n",
      "Cost / err at iteration i=10, j=30: 107.552 / 0.033\n",
      "Cost / err at iteration i=10, j=40: 108.102 / 0.031\n",
      "Cost / err at iteration i=10, j=50: 104.094 / 0.033\n",
      "Cost / err at iteration i=10, j=60: 107.664 / 0.031\n",
      "Cost / err at iteration i=10, j=70: 104.479 / 0.032\n",
      "Cost / err at iteration i=10, j=80: 107.078 / 0.038\n",
      "Cost / err at iteration i=11, j=0: 105.829 / 0.038\n",
      "Cost / err at iteration i=11, j=10: 103.604 / 0.036\n",
      "Cost / err at iteration i=11, j=20: 106.371 / 0.036\n",
      "Cost / err at iteration i=11, j=30: 107.774 / 0.035\n",
      "Cost / err at iteration i=11, j=40: 109.427 / 0.034\n",
      "Cost / err at iteration i=11, j=50: 106.296 / 0.033\n",
      "Cost / err at iteration i=11, j=60: 108.485 / 0.030\n",
      "Cost / err at iteration i=11, j=70: 104.907 / 0.032\n",
      "Cost / err at iteration i=11, j=80: 106.749 / 0.040\n",
      "Cost / err at iteration i=12, j=0: 106.268 / 0.040\n",
      "Cost / err at iteration i=12, j=10: 102.855 / 0.039\n",
      "Cost / err at iteration i=12, j=20: 108.956 / 0.037\n",
      "Cost / err at iteration i=12, j=30: 110.470 / 0.037\n",
      "Cost / err at iteration i=12, j=40: 112.255 / 0.037\n",
      "Cost / err at iteration i=12, j=50: 107.802 / 0.033\n",
      "Cost / err at iteration i=12, j=60: 111.699 / 0.031\n",
      "Cost / err at iteration i=12, j=70: 107.925 / 0.033\n",
      "Cost / err at iteration i=12, j=80: 109.220 / 0.041\n",
      "Cost / err at iteration i=13, j=0: 109.155 / 0.041\n",
      "Cost / err at iteration i=13, j=10: 106.939 / 0.041\n",
      "Cost / err at iteration i=13, j=20: 112.020 / 0.037\n",
      "Cost / err at iteration i=13, j=30: 113.024 / 0.038\n",
      "Cost / err at iteration i=13, j=40: 113.950 / 0.036\n",
      "Cost / err at iteration i=13, j=50: 108.899 / 0.033\n",
      "Cost / err at iteration i=13, j=60: 114.240 / 0.032\n",
      "Cost / err at iteration i=13, j=70: 110.788 / 0.033\n",
      "Cost / err at iteration i=13, j=80: 112.009 / 0.039\n",
      "Cost / err at iteration i=14, j=0: 112.017 / 0.039\n",
      "Cost / err at iteration i=14, j=10: 110.089 / 0.040\n",
      "Cost / err at iteration i=14, j=20: 114.463 / 0.037\n",
      "Cost / err at iteration i=14, j=30: 115.812 / 0.038\n",
      "Cost / err at iteration i=14, j=40: 117.938 / 0.037\n",
      "Cost / err at iteration i=14, j=50: 111.478 / 0.032\n",
      "Cost / err at iteration i=14, j=60: 117.417 / 0.034\n",
      "Cost / err at iteration i=14, j=70: 114.099 / 0.033\n",
      "Cost / err at iteration i=14, j=80: 113.941 / 0.037\n",
      "Cost / err at iteration i=15, j=0: 114.102 / 0.039\n",
      "Cost / err at iteration i=15, j=10: 113.216 / 0.038\n",
      "Cost / err at iteration i=15, j=20: 116.703 / 0.035\n",
      "Cost / err at iteration i=15, j=30: 118.589 / 0.038\n",
      "Cost / err at iteration i=15, j=40: 121.902 / 0.038\n",
      "Cost / err at iteration i=15, j=50: 113.277 / 0.032\n",
      "Cost / err at iteration i=15, j=60: 119.750 / 0.035\n",
      "Cost / err at iteration i=15, j=70: 116.793 / 0.034\n",
      "Cost / err at iteration i=15, j=80: 117.033 / 0.036\n",
      "Cost / err at iteration i=16, j=0: 117.077 / 0.036\n",
      "Cost / err at iteration i=16, j=10: 117.271 / 0.036\n",
      "Cost / err at iteration i=16, j=20: 119.803 / 0.035\n",
      "Cost / err at iteration i=16, j=30: 122.230 / 0.038\n",
      "Cost / err at iteration i=16, j=40: 127.606 / 0.037\n",
      "Cost / err at iteration i=16, j=50: 116.842 / 0.032\n",
      "Cost / err at iteration i=16, j=60: 123.596 / 0.034\n",
      "Cost / err at iteration i=16, j=70: 121.420 / 0.035\n",
      "Cost / err at iteration i=16, j=80: 121.112 / 0.035\n",
      "Cost / err at iteration i=17, j=0: 121.187 / 0.035\n",
      "Cost / err at iteration i=17, j=10: 121.935 / 0.036\n",
      "Cost / err at iteration i=17, j=20: 123.703 / 0.035\n",
      "Cost / err at iteration i=17, j=30: 126.664 / 0.037\n",
      "Cost / err at iteration i=17, j=40: 132.198 / 0.037\n"
     ]
    },
    {
     "name": "stdout",
     "output_type": "stream",
     "text": [
      "Cost / err at iteration i=17, j=50: 119.568 / 0.031\n",
      "Cost / err at iteration i=17, j=60: 126.781 / 0.033\n",
      "Cost / err at iteration i=17, j=70: 124.387 / 0.034\n",
      "Cost / err at iteration i=17, j=80: 125.282 / 0.035\n",
      "Cost / err at iteration i=18, j=0: 125.645 / 0.034\n",
      "Cost / err at iteration i=18, j=10: 126.416 / 0.037\n",
      "Cost / err at iteration i=18, j=20: 127.751 / 0.034\n",
      "Cost / err at iteration i=18, j=30: 131.004 / 0.037\n",
      "Cost / err at iteration i=18, j=40: 139.074 / 0.037\n",
      "Cost / err at iteration i=18, j=50: 124.072 / 0.031\n",
      "Cost / err at iteration i=18, j=60: 129.826 / 0.032\n",
      "Cost / err at iteration i=18, j=70: 125.956 / 0.033\n",
      "Cost / err at iteration i=18, j=80: 126.552 / 0.035\n",
      "Cost / err at iteration i=19, j=0: 127.036 / 0.035\n",
      "Cost / err at iteration i=19, j=10: 129.017 / 0.036\n",
      "Cost / err at iteration i=19, j=20: 131.515 / 0.035\n",
      "Cost / err at iteration i=19, j=30: 132.824 / 0.038\n",
      "Cost / err at iteration i=19, j=40: 141.179 / 0.037\n",
      "Cost / err at iteration i=19, j=50: 129.802 / 0.032\n",
      "Cost / err at iteration i=19, j=60: 134.545 / 0.032\n",
      "Cost / err at iteration i=19, j=70: 131.366 / 0.031\n",
      "Cost / err at iteration i=19, j=80: 129.857 / 0.034\n",
      "Cost / err at iteration i=20, j=0: 130.057 / 0.033\n",
      "Cost / err at iteration i=20, j=10: 133.530 / 0.035\n",
      "Cost / err at iteration i=20, j=20: 137.233 / 0.032\n",
      "Cost / err at iteration i=20, j=30: 143.249 / 0.037\n",
      "Cost / err at iteration i=20, j=40: 140.854 / 0.033\n",
      "Cost / err at iteration i=20, j=50: 136.841 / 0.033\n",
      "Cost / err at iteration i=20, j=60: 158.913 / 0.036\n",
      "Cost / err at iteration i=20, j=70: 143.153 / 0.035\n",
      "Cost / err at iteration i=20, j=80: 143.321 / 0.035\n",
      "Cost / err at iteration i=21, j=0: 140.244 / 0.031\n",
      "Cost / err at iteration i=21, j=10: 137.349 / 0.033\n",
      "Cost / err at iteration i=21, j=20: 146.631 / 0.033\n",
      "Cost / err at iteration i=21, j=30: 147.409 / 0.037\n",
      "Cost / err at iteration i=21, j=40: 148.906 / 0.034\n",
      "Cost / err at iteration i=21, j=50: 149.243 / 0.031\n",
      "Cost / err at iteration i=21, j=60: 146.263 / 0.030\n",
      "Cost / err at iteration i=21, j=70: 138.991 / 0.030\n",
      "Cost / err at iteration i=21, j=80: 146.548 / 0.035\n",
      "Cost / err at iteration i=22, j=0: 147.090 / 0.035\n",
      "Cost / err at iteration i=22, j=10: 150.203 / 0.033\n",
      "Cost / err at iteration i=22, j=20: 141.241 / 0.029\n",
      "Cost / err at iteration i=22, j=30: 150.966 / 0.032\n",
      "Cost / err at iteration i=22, j=40: 153.793 / 0.033\n",
      "Cost / err at iteration i=22, j=50: 144.438 / 0.029\n",
      "Cost / err at iteration i=22, j=60: 144.433 / 0.031\n",
      "Cost / err at iteration i=22, j=70: 148.633 / 0.032\n",
      "Cost / err at iteration i=22, j=80: 144.805 / 0.032\n",
      "Cost / err at iteration i=23, j=0: 144.930 / 0.031\n",
      "Cost / err at iteration i=23, j=10: 153.262 / 0.030\n",
      "Cost / err at iteration i=23, j=20: 151.282 / 0.034\n",
      "Cost / err at iteration i=23, j=30: 178.848 / 0.037\n",
      "Cost / err at iteration i=23, j=40: 165.309 / 0.028\n",
      "Cost / err at iteration i=23, j=50: 162.007 / 0.031\n",
      "Cost / err at iteration i=23, j=60: 155.162 / 0.031\n",
      "Cost / err at iteration i=23, j=70: 165.232 / 0.032\n",
      "Cost / err at iteration i=23, j=80: 167.855 / 0.031\n",
      "Cost / err at iteration i=24, j=0: 170.008 / 0.033\n",
      "Cost / err at iteration i=24, j=10: 170.870 / 0.038\n",
      "Cost / err at iteration i=24, j=20: 163.995 / 0.034\n",
      "Cost / err at iteration i=24, j=30: 174.654 / 0.036\n",
      "Cost / err at iteration i=24, j=40: 164.327 / 0.034\n",
      "Cost / err at iteration i=24, j=50: 147.703 / 0.032\n",
      "Cost / err at iteration i=24, j=60: 154.204 / 0.029\n",
      "Cost / err at iteration i=24, j=70: 150.439 / 0.029\n",
      "Cost / err at iteration i=24, j=80: 144.090 / 0.031\n",
      "Cost / err at iteration i=25, j=0: 142.548 / 0.030\n",
      "Cost / err at iteration i=25, j=10: 157.416 / 0.033\n",
      "Cost / err at iteration i=25, j=20: 166.422 / 0.037\n",
      "Cost / err at iteration i=25, j=30: 157.945 / 0.034\n",
      "Cost / err at iteration i=25, j=40: 166.616 / 0.035\n",
      "Cost / err at iteration i=25, j=50: 158.297 / 0.030\n",
      "Cost / err at iteration i=25, j=60: 148.761 / 0.032\n",
      "Cost / err at iteration i=25, j=70: 144.560 / 0.030\n",
      "Cost / err at iteration i=25, j=80: 142.396 / 0.031\n",
      "Cost / err at iteration i=26, j=0: 141.635 / 0.032\n",
      "Cost / err at iteration i=26, j=10: 140.498 / 0.031\n",
      "Cost / err at iteration i=26, j=20: 150.443 / 0.034\n",
      "Cost / err at iteration i=26, j=30: 182.443 / 0.034\n",
      "Cost / err at iteration i=26, j=40: 180.380 / 0.036\n",
      "Cost / err at iteration i=26, j=50: 180.086 / 0.031\n",
      "Cost / err at iteration i=26, j=60: 180.582 / 0.033\n",
      "Cost / err at iteration i=26, j=70: 163.770 / 0.033\n",
      "Cost / err at iteration i=26, j=80: 151.483 / 0.034\n",
      "Cost / err at iteration i=27, j=0: 150.695 / 0.033\n",
      "Cost / err at iteration i=27, j=10: 163.455 / 0.033\n",
      "Cost / err at iteration i=27, j=20: 166.122 / 0.037\n",
      "Cost / err at iteration i=27, j=30: 141.516 / 0.031\n",
      "Cost / err at iteration i=27, j=40: 141.644 / 0.028\n",
      "Cost / err at iteration i=27, j=50: 150.206 / 0.030\n",
      "Cost / err at iteration i=27, j=60: 150.549 / 0.033\n",
      "Cost / err at iteration i=27, j=70: 145.575 / 0.028\n",
      "Cost / err at iteration i=27, j=80: 142.529 / 0.027\n",
      "Cost / err at iteration i=28, j=0: 147.015 / 0.030\n",
      "Cost / err at iteration i=28, j=10: 150.824 / 0.032\n",
      "Cost / err at iteration i=28, j=20: 160.141 / 0.033\n",
      "Cost / err at iteration i=28, j=30: 151.871 / 0.033\n",
      "Cost / err at iteration i=28, j=40: 148.613 / 0.031\n",
      "Cost / err at iteration i=28, j=50: 144.904 / 0.031\n",
      "Cost / err at iteration i=28, j=60: 144.084 / 0.031\n",
      "Cost / err at iteration i=28, j=70: 139.971 / 0.031\n",
      "Cost / err at iteration i=28, j=80: 138.910 / 0.030\n",
      "Cost / err at iteration i=29, j=0: 142.273 / 0.031\n",
      "Cost / err at iteration i=29, j=10: 149.530 / 0.031\n",
      "Cost / err at iteration i=29, j=20: 137.686 / 0.030\n",
      "Cost / err at iteration i=29, j=30: 139.316 / 0.030\n",
      "Cost / err at iteration i=29, j=40: 142.524 / 0.030\n",
      "Cost / err at iteration i=29, j=50: 146.293 / 0.030\n",
      "Cost / err at iteration i=29, j=60: 148.187 / 0.029\n",
      "Cost / err at iteration i=29, j=70: 143.866 / 0.028\n",
      "Cost / err at iteration i=29, j=80: 140.638 / 0.029\n",
      "final accuracy: 0.9710\n",
      "Model saved in path: models/model.ckpt\n"
     ]
    },
    {
     "data": {
      "image/png": "[encoded data removed]",
      "text/plain": [
       "<Figure size 432x288 with 1 Axes>"
      ]
     },
     "metadata": {
      "needs_background": "light"
     },
     "output_type": "display_data"
    }
   ],
   "source": [
    "main()"
   ]
  },
  {
   "cell_type": "code",
   "execution_count": null,
   "metadata": {},
   "outputs": [],
   "source": []
  }
 ],
 "metadata": {
  "kernelspec": {
   "display_name": "Python [conda env:tensorflow3.6]",
   "language": "python",
   "name": "conda-env-tensorflow3.6-py"
  },
  "language_info": {
   "codemirror_mode": {
    "name": "ipython",
    "version": 3
   },
   "file_extension": ".py",
   "mimetype": "text/x-python",
   "name": "python",
   "nbconvert_exporter": "python",
   "pygments_lexer": "ipython3",
   "version": "3.6.8"
  }
 },
 "nbformat": 4,
 "nbformat_minor": 2
}
